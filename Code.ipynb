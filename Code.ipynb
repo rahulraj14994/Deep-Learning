{
 "cells": [
  {
   "cell_type": "code",
   "execution_count": 3,
   "metadata": {},
   "outputs": [
    {
     "name": "stdout",
     "output_type": "stream",
     "text": [
      "WARNING:tensorflow:From c:\\Users\\rahul\\AppData\\Local\\Programs\\Python\\Python311\\Lib\\site-packages\\keras\\src\\losses.py:2976: The name tf.losses.sparse_softmax_cross_entropy is deprecated. Please use tf.compat.v1.losses.sparse_softmax_cross_entropy instead.\n",
      "\n"
     ]
    }
   ],
   "source": [
    "import tensorflow as tf"
   ]
  },
  {
   "cell_type": "code",
   "execution_count": 4,
   "metadata": {},
   "outputs": [],
   "source": [
    "def minimize_vector_x(A, b, learning_rate=0.01, num_iterations=100):\n",
    "    # Initialize x randomly\n",
    "    x = tf.Variable(tf.random.normal(shape=(A.shape[1], 1)))\n",
    "\n",
    "    for _ in range(num_iterations):\n",
    "        # Compute A_x = A * x\n",
    "        A_x = tf.matmul(A, x)\n",
    "\n",
    "        # Compute gradient = A^T * (A_x - b)\n",
    "        gradient = tf.matmul(tf.transpose(A), A_x - b)\n",
    "\n",
    "        # Update x = x - learning_rate * gradient\n",
    "        x.assign_sub(learning_rate * gradient)\n",
    "\n",
    "    return x.numpy()"
   ]
  },
  {
   "cell_type": "code",
   "execution_count": 5,
   "metadata": {},
   "outputs": [],
   "source": [
    "A = tf.constant([[1.0, 2.0], [3.0, 4.0]])\n",
    "b = tf.constant([[5.0], [6.0]])"
   ]
  },
  {
   "cell_type": "code",
   "execution_count": 6,
   "metadata": {},
   "outputs": [
    {
     "name": "stdout",
     "output_type": "stream",
     "text": [
      "Optimized x: [[-0.9338242]\n",
      " [ 2.3392072]]\n"
     ]
    }
   ],
   "source": [
    "optimized_x = minimize_vector_x(A, b)\n",
    "print(\"Optimized x:\", optimized_x)"
   ]
  }
 ],
 "metadata": {
  "kernelspec": {
   "display_name": "Python 3",
   "language": "python",
   "name": "python3"
  },
  "language_info": {
   "codemirror_mode": {
    "name": "ipython",
    "version": 3
   },
   "file_extension": ".py",
   "mimetype": "text/x-python",
   "name": "python",
   "nbconvert_exporter": "python",
   "pygments_lexer": "ipython3",
   "version": "3.11.5"
  }
 },
 "nbformat": 4,
 "nbformat_minor": 2
}
