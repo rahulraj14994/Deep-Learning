{
 "cells": [
  {
   "cell_type": "code",
   "execution_count": 12,
   "metadata": {},
   "outputs": [],
   "source": [
    "import tensorflow as tf\n",
    "from tensorflow.keras import datasets, layers, models\n",
    "import matplotlib.pyplot as plt\n",
    "import numpy as np"
   ]
  },
  {
   "cell_type": "code",
   "execution_count": 13,
   "metadata": {},
   "outputs": [],
   "source": [
    "# Define the LeNet architecture\n",
    "def LeNet():\n",
    "    model = models.Sequential()\n",
    "    # Convolutional layer with 6 filters, each of size 5x5, ReLU activation\n",
    "    model.add(layers.Conv2D(6, kernel_size=(5, 5), activation='relu', input_shape=(28, 28, 1)))\n",
    "    # Max pooling layer with pool size 2x2\n",
    "    model.add(layers.MaxPooling2D(pool_size=(2, 2)))\n",
    "    # Convolutional layer with 16 filters, each of size 5x5, ReLU activation\n",
    "    model.add(layers.Conv2D(16, kernel_size=(5, 5), activation='relu'))\n",
    "    # Max pooling layer with pool size 2x2\n",
    "    model.add(layers.MaxPooling2D(pool_size=(2, 2)))\n",
    "    # Flatten layer to convert 2D output to 1D\n",
    "    model.add(layers.Flatten())\n",
    "    # Fully connected layer with 120 neurons, ReLU activation\n",
    "    model.add(layers.Dense(120, activation='relu'))\n",
    "    # Fully connected layer with 84 neurons, ReLU activation\n",
    "    model.add(layers.Dense(84, activation='relu'))\n",
    "    # Output layer with 10 neurons (one for each class), softmax activation\n",
    "    model.add(layers.Dense(10, activation='softmax'))\n",
    "    return model"
   ]
  },
  {
   "cell_type": "code",
   "execution_count": 14,
   "metadata": {},
   "outputs": [],
   "source": [
    "# Load and preprocess the MNIST dataset\n",
    "(train_images, train_labels), (test_images, test_labels) = datasets.mnist.load_data()\n",
    "# Normalize pixel values to between 0 and 1 and reshape for input to the LeNet model\n",
    "train_images = train_images.reshape((60000, 28, 28, 1)) / 255.0\n",
    "test_images = test_images.reshape((10000, 28, 28, 1)) / 255.0\n"
   ]
  },
  {
   "cell_type": "code",
   "execution_count": 15,
   "metadata": {},
   "outputs": [],
   "source": [
    "# Convert labels to one-hot encoding\n",
    "train_labels = tf.keras.utils.to_categorical(train_labels)\n",
    "test_labels = tf.keras.utils.to_categorical(test_labels)"
   ]
  },
  {
   "cell_type": "code",
   "execution_count": 16,
   "metadata": {},
   "outputs": [],
   "source": [
    "# Compile the model\n",
    "model = LeNet()\n",
    "model.compile(optimizer='adam',\n",
    "              loss='categorical_crossentropy',\n",
    "              metrics=['accuracy'])"
   ]
  },
  {
   "cell_type": "code",
   "execution_count": 17,
   "metadata": {},
   "outputs": [
    {
     "name": "stdout",
     "output_type": "stream",
     "text": [
      "Epoch 1/20\n",
      "469/469 [==============================] - 4s 6ms/step - loss: 0.3252 - accuracy: 0.9064 - val_loss: 0.1088 - val_accuracy: 0.9679\n",
      "Epoch 2/20\n",
      "469/469 [==============================] - 3s 5ms/step - loss: 0.0929 - accuracy: 0.9715 - val_loss: 0.0706 - val_accuracy: 0.9772\n",
      "Epoch 3/20\n",
      "469/469 [==============================] - 3s 5ms/step - loss: 0.0693 - accuracy: 0.9785 - val_loss: 0.0582 - val_accuracy: 0.9813\n",
      "Epoch 4/20\n",
      "469/469 [==============================] - 2s 5ms/step - loss: 0.0528 - accuracy: 0.9840 - val_loss: 0.0528 - val_accuracy: 0.9824\n",
      "Epoch 5/20\n",
      "469/469 [==============================] - 2s 5ms/step - loss: 0.0458 - accuracy: 0.9861 - val_loss: 0.0481 - val_accuracy: 0.9844\n",
      "Epoch 6/20\n",
      "469/469 [==============================] - 2s 5ms/step - loss: 0.0387 - accuracy: 0.9877 - val_loss: 0.0399 - val_accuracy: 0.9864\n",
      "Epoch 7/20\n",
      "469/469 [==============================] - 2s 5ms/step - loss: 0.0321 - accuracy: 0.9897 - val_loss: 0.0447 - val_accuracy: 0.9853\n",
      "Epoch 8/20\n",
      "469/469 [==============================] - 2s 5ms/step - loss: 0.0285 - accuracy: 0.9907 - val_loss: 0.0322 - val_accuracy: 0.9891\n",
      "Epoch 9/20\n",
      "469/469 [==============================] - 2s 5ms/step - loss: 0.0254 - accuracy: 0.9917 - val_loss: 0.0445 - val_accuracy: 0.9867\n",
      "Epoch 10/20\n",
      "469/469 [==============================] - 2s 5ms/step - loss: 0.0218 - accuracy: 0.9928 - val_loss: 0.0434 - val_accuracy: 0.9868\n",
      "Epoch 11/20\n",
      "469/469 [==============================] - 2s 5ms/step - loss: 0.0196 - accuracy: 0.9935 - val_loss: 0.0377 - val_accuracy: 0.9892\n",
      "Epoch 12/20\n",
      "469/469 [==============================] - 3s 5ms/step - loss: 0.0187 - accuracy: 0.9936 - val_loss: 0.0351 - val_accuracy: 0.9895\n",
      "Epoch 13/20\n",
      "469/469 [==============================] - 3s 5ms/step - loss: 0.0150 - accuracy: 0.9950 - val_loss: 0.0383 - val_accuracy: 0.9899\n",
      "Epoch 14/20\n",
      "469/469 [==============================] - 2s 5ms/step - loss: 0.0142 - accuracy: 0.9951 - val_loss: 0.0416 - val_accuracy: 0.9884\n",
      "Epoch 15/20\n",
      "469/469 [==============================] - 2s 5ms/step - loss: 0.0131 - accuracy: 0.9954 - val_loss: 0.0397 - val_accuracy: 0.9885\n",
      "Epoch 16/20\n",
      "469/469 [==============================] - 3s 5ms/step - loss: 0.0109 - accuracy: 0.9964 - val_loss: 0.0397 - val_accuracy: 0.9893\n",
      "Epoch 17/20\n",
      "469/469 [==============================] - 3s 5ms/step - loss: 0.0109 - accuracy: 0.9962 - val_loss: 0.0489 - val_accuracy: 0.9866\n",
      "Epoch 18/20\n",
      "469/469 [==============================] - 2s 5ms/step - loss: 0.0112 - accuracy: 0.9960 - val_loss: 0.0427 - val_accuracy: 0.9878\n",
      "Epoch 19/20\n",
      "469/469 [==============================] - 2s 5ms/step - loss: 0.0099 - accuracy: 0.9965 - val_loss: 0.0482 - val_accuracy: 0.9862\n",
      "Epoch 20/20\n",
      "469/469 [==============================] - 2s 5ms/step - loss: 0.0080 - accuracy: 0.9973 - val_loss: 0.0389 - val_accuracy: 0.9909\n"
     ]
    }
   ],
   "source": [
    "# Train the model for 20 epochs\n",
    "history = model.fit(train_images, train_labels, epochs=20, batch_size=128, validation_data=(test_images, test_labels))\n"
   ]
  },
  {
   "cell_type": "markdown",
   "metadata": {},
   "source": [
    "Training Loss: The training loss decreases steadily over epochs from 0.3252 to 0.0080.\n",
    "\n",
    "Training Accuracy: The training accuracy increases steadily over epochs, reaching a final value of 0.9973.\n",
    "\n",
    "Validation Loss: The validation loss decreases over epochs, indicating good performance on the validation set. It starts at 0.1088 and decreases to 0.0389.\n",
    "\n",
    "Validation Accuracy: The validation accuracy increases over epochs, reaching a final value of 0.9909. This indicates that the model generalizes well to unseen data and performs accurately on the test dataset.\n",
    "\n",
    "Overall, the model achieves high accuracy on both the training and validation datasets, suggesting that it effectively learns to classify handwritten digits from the MNIST dataset."
   ]
  },
  {
   "cell_type": "code",
   "execution_count": 18,
   "metadata": {},
   "outputs": [
    {
     "name": "stdout",
     "output_type": "stream",
     "text": [
      "1/1 [==============================] - 0s 80ms/step\n"
     ]
    }
   ],
   "source": [
    "# Visualize some MNIST images and their predicted labels\n",
    "num_images = 10\n",
    "predictions = model.predict(test_images[:num_images])\n",
    "predicted_labels = np.argmax(predictions, axis=1)"
   ]
  },
  {
   "cell_type": "code",
   "execution_count": 19,
   "metadata": {},
   "outputs": [
    {
     "data": {
      "image/png": "[encoded data removed]",
      "text/plain": [
       "<Figure size 1000x500 with 10 Axes>"
      ]
     },
     "metadata": {},
     "output_type": "display_data"
    }
   ],
   "source": [
    "# Plotting the images and predicted labels\n",
    "plt.figure(figsize=(10, 5))\n",
    "for i in range(num_images):\n",
    "    plt.subplot(2, 5, i + 1)\n",
    "    plt.imshow(test_images[i].reshape(28, 28), cmap='gray')\n",
    "    plt.title(f\"Predicted: {predicted_labels[i]}\")\n",
    "    plt.axis('off')\n",
    "plt.show()"
   ]
  }
 ],
 "metadata": {
  "kernelspec": {
   "display_name": "Python 3",
   "language": "python",
   "name": "python3"
  },
  "language_info": {
   "codemirror_mode": {
    "name": "ipython",
    "version": 3
   },
   "file_extension": ".py",
   "mimetype": "text/x-python",
   "name": "python",
   "nbconvert_exporter": "python",
   "pygments_lexer": "ipython3",
   "version": "3.11.5"
  }
 },
 "nbformat": 4,
 "nbformat_minor": 2
}
