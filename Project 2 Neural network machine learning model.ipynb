{
 "cells": [
  {
   "cell_type": "code",
   "execution_count": 17,
   "metadata": {},
   "outputs": [],
   "source": [
    "import tensorflow as tf\n",
    "from tensorflow.keras.datasets import fashion_mnist"
   ]
  },
  {
   "cell_type": "code",
   "execution_count": 18,
   "metadata": {},
   "outputs": [
    {
     "name": "stdout",
     "output_type": "stream",
     "text": [
      "Downloading data from https://storage.googleapis.com/tensorflow/tf-keras-datasets/train-labels-idx1-ubyte.gz\n",
      "29515/29515 [==============================] - 0s 1us/step\n",
      "Downloading data from https://storage.googleapis.com/tensorflow/tf-keras-datasets/train-images-idx3-ubyte.gz\n",
      "26421880/26421880 [==============================] - 1s 0us/step\n",
      "Downloading data from https://storage.googleapis.com/tensorflow/tf-keras-datasets/t10k-labels-idx1-ubyte.gz\n",
      "5148/5148 [==============================] - 0s 0s/step\n",
      "Downloading data from https://storage.googleapis.com/tensorflow/tf-keras-datasets/t10k-images-idx3-ubyte.gz\n",
      "4422102/4422102 [==============================] - 0s 0us/step\n"
     ]
    }
   ],
   "source": [
    "# Load Fashion MNIST dataset\n",
    "(x_train, y_train), (x_test, y_test) = fashion_mnist.load_data()"
   ]
  },
  {
   "cell_type": "code",
   "execution_count": 19,
   "metadata": {},
   "outputs": [],
   "source": [
    "# Normalize pixel values to be between 0 and 1\n",
    "x_train, x_test = x_train / 255.0, x_test / 255.0"
   ]
  },
  {
   "cell_type": "code",
   "execution_count": 20,
   "metadata": {},
   "outputs": [],
   "source": [
    "# Define the model\n",
    "model = tf.keras.Sequential([\n",
    "    tf.keras.layers.Flatten(input_shape=(28, 28)),\n",
    "    tf.keras.layers.Dense(128, activation='relu'),\n",
    "    tf.keras.layers.Dense(10, activation='softmax')\n",
    "])"
   ]
  },
  {
   "cell_type": "code",
   "execution_count": 21,
   "metadata": {},
   "outputs": [],
   "source": [
    "# Compile the model\n",
    "model.compile(optimizer='adam',\n",
    "              loss='sparse_categorical_crossentropy',\n",
    "              metrics=['accuracy'])"
   ]
  },
  {
   "cell_type": "code",
   "execution_count": 22,
   "metadata": {},
   "outputs": [
    {
     "name": "stdout",
     "output_type": "stream",
     "text": [
      "Epoch 1/10\n",
      "1875/1875 [==============================] - 5s 3ms/step - loss: 0.4978 - accuracy: 0.8248 - val_loss: 0.4280 - val_accuracy: 0.8469\n",
      "Epoch 2/10\n",
      "1875/1875 [==============================] - 4s 2ms/step - loss: 0.3736 - accuracy: 0.8647 - val_loss: 0.3866 - val_accuracy: 0.8598\n",
      "Epoch 3/10\n",
      "1875/1875 [==============================] - 4s 2ms/step - loss: 0.3364 - accuracy: 0.8770 - val_loss: 0.3819 - val_accuracy: 0.8645\n",
      "Epoch 4/10\n",
      "1875/1875 [==============================] - 4s 2ms/step - loss: 0.3117 - accuracy: 0.8856 - val_loss: 0.3719 - val_accuracy: 0.8661\n",
      "Epoch 5/10\n",
      "1875/1875 [==============================] - 5s 3ms/step - loss: 0.2941 - accuracy: 0.8927 - val_loss: 0.3568 - val_accuracy: 0.8707\n",
      "Epoch 6/10\n",
      "1875/1875 [==============================] - 5s 2ms/step - loss: 0.2810 - accuracy: 0.8951 - val_loss: 0.3629 - val_accuracy: 0.8700\n",
      "Epoch 7/10\n",
      "1875/1875 [==============================] - 4s 2ms/step - loss: 0.2697 - accuracy: 0.9000 - val_loss: 0.3336 - val_accuracy: 0.8809\n",
      "Epoch 8/10\n",
      "1875/1875 [==============================] - 4s 2ms/step - loss: 0.2573 - accuracy: 0.9047 - val_loss: 0.3424 - val_accuracy: 0.8783\n",
      "Epoch 9/10\n",
      "1875/1875 [==============================] - 4s 2ms/step - loss: 0.2471 - accuracy: 0.9081 - val_loss: 0.3480 - val_accuracy: 0.8753\n",
      "Epoch 10/10\n",
      "1875/1875 [==============================] - 4s 2ms/step - loss: 0.2403 - accuracy: 0.9091 - val_loss: 0.3425 - val_accuracy: 0.8806\n"
     ]
    }
   ],
   "source": [
    "# Train the model\n",
    "history = model.fit(x_train, y_train, epochs=10, validation_data=(x_test, y_test))"
   ]
  },
  {
   "cell_type": "code",
   "execution_count": 23,
   "metadata": {},
   "outputs": [
    {
     "name": "stdout",
     "output_type": "stream",
     "text": [
      "313/313 - 0s - loss: 0.3425 - accuracy: 0.8806 - 449ms/epoch - 1ms/step\n",
      "Test accuracy: 0.8805999755859375\n"
     ]
    }
   ],
   "source": [
    "# Evaluate the model\n",
    "test_loss, test_acc = model.evaluate(x_test, y_test, verbose=2)\n",
    "print(f'Test accuracy: {test_acc}')"
   ]
  },
  {
   "cell_type": "code",
   "execution_count": 25,
   "metadata": {},
   "outputs": [
    {
     "name": "stdout",
     "output_type": "stream",
     "text": [
      "1/1 [==============================] - 0s 27ms/step\n",
      "Image 1:\n",
      "  T-shirt/top: 0.0000\n",
      "  Trouser: 0.0000\n",
      "  Pullover: 0.0000\n",
      "  Dress: 0.0000\n",
      "  Coat: 0.0000\n",
      "  Sandal: 0.0067\n",
      "  Shirt: 0.0000\n",
      "  Sneaker: 0.0193\n",
      "  Bag: 0.0000\n",
      "  Ankle boot: 0.9740\n",
      "Image 2:\n",
      "  T-shirt/top: 0.0000\n",
      "  Trouser: 0.0000\n",
      "  Pullover: 0.9984\n",
      "  Dress: 0.0000\n",
      "  Coat: 0.0016\n",
      "  Sandal: 0.0000\n",
      "  Shirt: 0.0000\n",
      "  Sneaker: 0.0000\n",
      "  Bag: 0.0000\n",
      "  Ankle boot: 0.0000\n",
      "Image 3:\n",
      "  T-shirt/top: 0.0000\n",
      "  Trouser: 1.0000\n",
      "  Pullover: 0.0000\n",
      "  Dress: 0.0000\n",
      "  Coat: 0.0000\n",
      "  Sandal: 0.0000\n",
      "  Shirt: 0.0000\n",
      "  Sneaker: 0.0000\n",
      "  Bag: 0.0000\n",
      "  Ankle boot: 0.0000\n",
      "Image 4:\n",
      "  T-shirt/top: 0.0000\n",
      "  Trouser: 1.0000\n",
      "  Pullover: 0.0000\n",
      "  Dress: 0.0000\n",
      "  Coat: 0.0000\n",
      "  Sandal: 0.0000\n",
      "  Shirt: 0.0000\n",
      "  Sneaker: 0.0000\n",
      "  Bag: 0.0000\n",
      "  Ankle boot: 0.0000\n",
      "Image 5:\n",
      "  T-shirt/top: 0.0571\n",
      "  Trouser: 0.0000\n",
      "  Pullover: 0.0313\n",
      "  Dress: 0.0012\n",
      "  Coat: 0.0020\n",
      "  Sandal: 0.0000\n",
      "  Shirt: 0.9084\n",
      "  Sneaker: 0.0000\n",
      "  Bag: 0.0000\n",
      "  Ankle boot: 0.0000\n"
     ]
    }
   ],
   "source": [
    "import numpy as np\n",
    "\n",
    "# Class labels for Fashion MNIST dataset\n",
    "class_labels = [\n",
    "    \"T-shirt/top\",\n",
    "    \"Trouser\",\n",
    "    \"Pullover\",\n",
    "    \"Dress\",\n",
    "    \"Coat\",\n",
    "    \"Sandal\",\n",
    "    \"Shirt\",\n",
    "    \"Sneaker\",\n",
    "    \"Bag\",\n",
    "    \"Ankle boot\"\n",
    "]\n",
    "# Get the output probabilities for the first 5 test images\n",
    "probabilities = model.predict(x_test[:5])\n",
    "\n",
    "# Print the probabilities with labels\n",
    "for i, probs in enumerate(probabilities):\n",
    "    print(f\"Image {i+1}:\")\n",
    "    for j, prob in enumerate(probs):\n",
    "        print(f\"  {class_labels[j]}: {prob:.4f}\")"
   ]
  }
 ],
 "metadata": {
  "kernelspec": {
   "display_name": "Python 3",
   "language": "python",
   "name": "python3"
  },
  "language_info": {
   "codemirror_mode": {
    "name": "ipython",
    "version": 3
   },
   "file_extension": ".py",
   "mimetype": "text/x-python",
   "name": "python",
   "nbconvert_exporter": "python",
   "pygments_lexer": "ipython3",
   "version": "3.11.5"
  }
 },
 "nbformat": 4,
 "nbformat_minor": 2
}
